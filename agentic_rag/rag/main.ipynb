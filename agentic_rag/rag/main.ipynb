{
 "cells": [
  {
   "cell_type": "code",
   "execution_count": 3,
   "id": "ff590a47",
   "metadata": {},
   "outputs": [
    {
     "name": "stderr",
     "output_type": "stream",
     "text": [
      "2025-10-29 15:20:02,751 - INFO - detected formats: [<InputFormat.PDF: 'pdf'>]\n",
      "2025-10-29 15:20:02,753 - INFO - Going to convert document batch...\n",
      "2025-10-29 15:20:02,754 - INFO - Initializing pipeline for StandardPdfPipeline with options hash 4f2edc0f7d9bb60b38ebfecf9a2609f5\n",
      "2025-10-29 15:20:02,756 - INFO - rapidocr cannot be used because onnxruntime is not installed.\n",
      "2025-10-29 15:20:02,757 - INFO - easyocr cannot be used because it is not installed.\n",
      "2025-10-29 15:20:02,758 - INFO - Accelerator device: 'cpu'\n",
      "\u001b[32m[INFO] 2025-10-29 15:20:02,776 [RapidOCR] base.py:22: Using engine_name: torch\u001b[0m\n",
      "\u001b[32m[INFO] 2025-10-29 15:20:02,788 [RapidOCR] download_file.py:60: File exists and is valid: C:\\Users\\AI_ML PC_4\\Desktop\\Swarnalatha\\myenv\\Lib\\site-packages\\rapidocr\\models\\ch_PP-OCRv4_det_infer.pth\u001b[0m\n",
      "\u001b[32m[INFO] 2025-10-29 15:20:02,789 [RapidOCR] torch.py:54: Using C:\\Users\\AI_ML PC_4\\Desktop\\Swarnalatha\\myenv\\Lib\\site-packages\\rapidocr\\models\\ch_PP-OCRv4_det_infer.pth\u001b[0m\n"
     ]
    },
    {
     "name": "stdout",
     "output_type": "stream",
     "text": [
      "\n",
      " Processing PDF: C:\\Users\\AI_ML PC_4\\Desktop\\Swarnalatha\\Agentic_ai_with_lnaggraph\\agentic_rag\\data\\raw_data\\Syed Saleem.pdf\n",
      "Trying structured extraction with Docling...\n"
     ]
    },
    {
     "name": "stderr",
     "output_type": "stream",
     "text": [
      "\u001b[32m[INFO] 2025-10-29 15:20:02,968 [RapidOCR] base.py:22: Using engine_name: torch\u001b[0m\n",
      "\u001b[32m[INFO] 2025-10-29 15:20:02,970 [RapidOCR] download_file.py:60: File exists and is valid: C:\\Users\\AI_ML PC_4\\Desktop\\Swarnalatha\\myenv\\Lib\\site-packages\\rapidocr\\models\\ch_ptocr_mobile_v2.0_cls_infer.pth\u001b[0m\n",
      "\u001b[32m[INFO] 2025-10-29 15:20:02,971 [RapidOCR] torch.py:54: Using C:\\Users\\AI_ML PC_4\\Desktop\\Swarnalatha\\myenv\\Lib\\site-packages\\rapidocr\\models\\ch_ptocr_mobile_v2.0_cls_infer.pth\u001b[0m\n",
      "\u001b[32m[INFO] 2025-10-29 15:20:03,056 [RapidOCR] base.py:22: Using engine_name: torch\u001b[0m\n",
      "\u001b[32m[INFO] 2025-10-29 15:20:03,076 [RapidOCR] download_file.py:60: File exists and is valid: C:\\Users\\AI_ML PC_4\\Desktop\\Swarnalatha\\myenv\\Lib\\site-packages\\rapidocr\\models\\ch_PP-OCRv4_rec_infer.pth\u001b[0m\n",
      "\u001b[32m[INFO] 2025-10-29 15:20:03,076 [RapidOCR] torch.py:54: Using C:\\Users\\AI_ML PC_4\\Desktop\\Swarnalatha\\myenv\\Lib\\site-packages\\rapidocr\\models\\ch_PP-OCRv4_rec_infer.pth\u001b[0m\n",
      "2025-10-29 15:20:03,291 - INFO - Auto OCR model selected rapidocr with torch.\n",
      "2025-10-29 15:20:03,292 - INFO - Accelerator device: 'cpu'\n",
      "2025-10-29 15:20:04,571 - INFO - Accelerator device: 'cpu'\n",
      "2025-10-29 15:20:04,856 - INFO - Processing document Syed Saleem.pdf\n",
      "2025-10-29 15:20:07,195 - INFO - Finished converting document Syed Saleem.pdf in 4.44 sec.\n"
     ]
    },
    {
     "name": "stdout",
     "output_type": "stream",
     "text": [
      "Docling extraction successful.\n",
      " Saved extracted data to: c:\\Users\\AI_ML PC_4\\Desktop\\Swarnalatha\\Agentic_ai_with_lnaggraph\\agentic_rag\\data\\pdf_texts\\Syed Saleem.txt\n"
     ]
    },
    {
     "data": {
      "text/plain": [
       "'c:\\\\Users\\\\AI_ML PC_4\\\\Desktop\\\\Swarnalatha\\\\Agentic_ai_with_lnaggraph\\\\agentic_rag\\\\data\\\\pdf_texts\\\\Syed Saleem.txt'"
      ]
     },
     "execution_count": 3,
     "metadata": {},
     "output_type": "execute_result"
    }
   ],
   "source": [
    "from docling_parsing import AdvancedPDFHandler\n",
    "\n",
    "filehandler=AdvancedPDFHandler(r\"C:\\Users\\AI_ML PC_4\\Desktop\\Swarnalatha\\Agentic_ai_with_lnaggraph\\agentic_rag\\data\\raw_data\\Syed Saleem.pdf\")\n",
    "\n",
    "filehandler.process_pdf()\n",
    "\n"
   ]
  },
  {
   "cell_type": "code",
   "execution_count": 4,
   "id": "710807c0",
   "metadata": {},
   "outputs": [
    {
     "name": "stdout",
     "output_type": "stream",
     "text": [
      "Scraping: https://www.gainwelltechnologies.com\n",
      "Saved content to ../data/scraped_pages\\index.txt\n",
      "Scraping: https://www.gainwelltechnologies.com#main-content\n",
      "Saved content to ../data/scraped_pages\\index.txt\n",
      "Scraping: https://www.gainwelltechnologies.com/who-we-serve/\n",
      "Saved content to ../data/scraped_pages\\who-we-serve.txt\n",
      "Scraping: https://www.gainwelltechnologies.com/who-we-serve/medicaid-agencies/\n",
      "Saved content to ../data/scraped_pages\\medicaid-agencies.txt\n",
      "Scraping: https://www.gainwelltechnologies.com/who-we-serve/state-leaders/\n",
      "Saved content to ../data/scraped_pages\\state-leaders.txt\n",
      "Scraping: https://www.gainwelltechnologies.com/who-we-serve/providers/\n",
      "Saved content to ../data/scraped_pages\\providers.txt\n",
      "Scraping: https://www.gainwelltechnologies.com/who-we-serve/human-services-and-public-health/\n",
      "Saved content to ../data/scraped_pages\\human-services-and-public-health.txt\n",
      "Scraping: https://www.gainwelltechnologies.com/who-we-serve/commercial-payer/\n",
      "Saved content to ../data/scraped_pages\\commercial-payer.txt\n",
      "Scraping: https://www.gainwelltechnologies.com/solutions/\n",
      "Saved content to ../data/scraped_pages\\solutions.txt\n",
      "Scraping: https://www.gainwelltechnologies.com/solutions/medicaid-enterprise/\n",
      "Saved content to ../data/scraped_pages\\medicaid-enterprise.txt\n",
      "Scraping: https://www.gainwelltechnologies.com/solutions/data-analytics/\n",
      "Saved content to ../data/scraped_pages\\data-analytics.txt\n",
      "Scraping: https://www.gainwelltechnologies.com/solutions/provider-solutions/\n",
      "Saved content to ../data/scraped_pages\\provider-solutions.txt\n",
      "Scraping: https://www.gainwelltechnologies.com/solutions/human-services-public-health-solutions/\n",
      "Saved content to ../data/scraped_pages\\human-services-public-health-solutions.txt\n",
      "Scraping: https://www.gainwelltechnologies.com/solutions/systems-integration-interoperability/\n",
      "Saved content to ../data/scraped_pages\\systems-integration-interoperability.txt\n",
      "Scraping: https://www.gainwelltechnologies.com/solutions/pharmacy-solutions/\n",
      "Saved content to ../data/scraped_pages\\pharmacy-solutions.txt\n",
      "Scraping: https://www.gainwelltechnologies.com/solutions/coordination-of-benefits/\n",
      "Saved content to ../data/scraped_pages\\coordination-of-benefits.txt\n",
      "Scraping: https://www.gainwelltechnologies.com/solutions/payment-integrity/\n",
      "Saved content to ../data/scraped_pages\\payment-integrity.txt\n",
      "Scraping: https://www.gainwelltechnologies.com/solutions/care-quality/\n",
      "Saved content to ../data/scraped_pages\\care-quality.txt\n",
      "Scraping: https://www.gainwelltechnologies.com/solutions/population-health/\n",
      "Saved content to ../data/scraped_pages\\population-health.txt\n",
      "Scraping: https://www.gainwelltechnologies.com/resources/insights/\n",
      "Saved content to ../data/scraped_pages\\insights.txt\n",
      "Scraping: https://www.gainwelltechnologies.com/resources/case-studies/\n",
      "Saved content to ../data/scraped_pages\\case-studies.txt\n",
      "Scraping: https://www.gainwelltechnologies.com/resources/news/\n",
      "Saved content to ../data/scraped_pages\\news.txt\n",
      "Scraping: https://www.gainwelltechnologies.com/resources/insights/?_filter_a_types=blog-posts\n",
      "Saved content to ../data/scraped_pages\\insights.txt\n",
      "Scraping: https://www.gainwelltechnologies.com/resources/insights/?_filter_a_types=videos\n",
      "Saved content to ../data/scraped_pages\\insights.txt\n",
      "Scraping: https://www.gainwelltechnologies.com/resources/insights/?_filter_a_types=whitepapers\n",
      "Saved content to ../data/scraped_pages\\insights.txt\n",
      "Scraping: https://www.gainwelltechnologies.com/who-we-are/\n",
      "Saved content to ../data/scraped_pages\\who-we-are.txt\n",
      "Scraping: https://www.gainwelltechnologies.com/our-culture/\n",
      "Saved content to ../data/scraped_pages\\our-culture.txt\n",
      "Scraping: https://www.gainwelltechnologies.com/gainwell-cares/\n",
      "Saved content to ../data/scraped_pages\\gainwell-cares.txt\n",
      "Scraping: https://www.gainwelltechnologies.com/resources/awards/\n",
      "Saved content to ../data/scraped_pages\\awards.txt\n",
      "Scraping: https://www.gainwelltechnologies.com/resources/events/\n",
      "Saved content to ../data/scraped_pages\\events.txt\n",
      "Scraping: https://www.gainwelltechnologies.com/careers/\n",
      "Saved content to ../data/scraped_pages\\careers.txt\n",
      "Scraping: https://www.gainwelltechnologies.com/india-careers/\n",
      "Saved content to ../data/scraped_pages\\india-careers.txt\n",
      "Scraping: https://www.gainwelltechnologies.com/contact-us/\n",
      "Saved content to ../data/scraped_pages\\contact-us.txt\n",
      "Scraping: https://www.gainwelltechnologies.com/resources/insights/community-engagement-verification-made-simple/\n",
      "Saved content to ../data/scraped_pages\\community-engagement-verification-made-simple.txt\n",
      "Scraping: https://www.gainwelltechnologies.com/resources/insights/improving-health-outcomes-and-program-effectiveness-for-justice-involved-populations/\n",
      "Saved content to ../data/scraped_pages\\improving-health-outcomes-and-program-effectiveness-for-justice-involved-populations.txt\n",
      "Scraping: https://www.gainwelltechnologies.com/resources/insights/transforming-provider-experiences-navigating-the-journey-with-confidence/\n",
      "Saved content to ../data/scraped_pages\\transforming-provider-experiences-navigating-the-journey-with-confidence.txt\n",
      "Scraping: https://www.gainwelltechnologies.com/solutions/systems-integration/\n",
      "Saved content to ../data/scraped_pages\\systems-integration.txt\n",
      "Scraping: https://www.gainwelltechnologies.com/resources/case-studies/driving-record-recoveries-accelerating-compliance/\n",
      "Saved content to ../data/scraped_pages\\driving-record-recoveries-accelerating-compliance.txt\n",
      "Scraping: https://www.gainwelltechnologies.com/resources/case-studies/accelerating-provider-enrollment-in-vermont/\n",
      "Saved content to ../data/scraped_pages\\accelerating-provider-enrollment-in-vermont.txt\n",
      "Scraping: https://www.gainwelltechnologies.com/resources/insights/mes-vendor-strategy-three-essentials-when-consolidating-it-and-business-operations/\n",
      "Saved content to ../data/scraped_pages\\mes-vendor-strategy-three-essentials-when-consolidating-it-and-business-operations.txt\n",
      "Scraping: https://www.gainwelltechnologies.com/resources/insights/building-a-data-driven-care-ecosystem-five-lessons-for-medicaid-leaders/\n",
      "Saved content to ../data/scraped_pages\\building-a-data-driven-care-ecosystem-five-lessons-for-medicaid-leaders.txt\n",
      "Scraping: https://www.gainwelltechnologies.com/terms-of-use/\n",
      "Saved content to ../data/scraped_pages\\terms-of-use.txt\n",
      "Scraping: https://www.gainwelltechnologies.com/cookies-policy/\n",
      "Saved content to ../data/scraped_pages\\cookies-policy.txt\n",
      "Scraping: https://www.gainwelltechnologies.com/privacy-policy/\n",
      "Saved content to ../data/scraped_pages\\privacy-policy.txt\n",
      "Scraping: https://www.gainwelltechnologies.com/legal-notices/\n",
      "Saved content to ../data/scraped_pages\\legal-notices.txt\n",
      "Scraping: https://www.gainwelltechnologies.com/accessibility-statement/\n",
      "Saved content to ../data/scraped_pages\\accessibility-statement.txt\n",
      "\n",
      " Finished crawling.\n",
      "Text files saved in: ../data/scraped_pages\n",
      "URL list written to: ../data/read_urls.txt\n"
     ]
    }
   ],
   "source": [
    "from data_scraping_url import SimpleWebCrawler\n",
    "\n",
    "crawler=SimpleWebCrawler(\"https://www.gainwelltechnologies.com\")\n",
    "\n",
    "crawler.run()\n",
    "\n"
   ]
  },
  {
   "cell_type": "code",
   "execution_count": 4,
   "id": "79a438e7",
   "metadata": {},
   "outputs": [
    {
     "name": "stdout",
     "output_type": "stream",
     "text": [
      "✅ 4 chunks (markdown) saved for read_urls.txt → ../data/chunks\\read_urls_markdown_chunks.txt\n",
      "✅ 53 chunks (markdown) saved for 2408.09869v5.txt → ../data/chunks\\2408.09869v5_markdown_chunks.txt\n",
      "✅ 10 chunks (markdown) saved for Syed Saleem.txt → ../data/chunks\\Syed Saleem_markdown_chunks.txt\n",
      "✅ 1 chunks (markdown) saved for accelerating-provider-enrollment-in-vermont.txt → ../data/chunks\\accelerating-provider-enrollment-in-vermont_markdown_chunks.txt\n",
      "✅ 1 chunks (markdown) saved for accessibility-statement.txt → ../data/chunks\\accessibility-statement_markdown_chunks.txt\n",
      "✅ 4 chunks (markdown) saved for awards.txt → ../data/chunks\\awards_markdown_chunks.txt\n",
      "✅ 8 chunks (markdown) saved for building-a-data-driven-care-ecosystem-five-lessons-for-medicaid-leaders.txt → ../data/chunks\\building-a-data-driven-care-ecosystem-five-lessons-for-medicaid-leaders_markdown_chunks.txt\n",
      "✅ 2 chunks (markdown) saved for care-quality.txt → ../data/chunks\\care-quality_markdown_chunks.txt\n",
      "✅ 6 chunks (markdown) saved for careers.txt → ../data/chunks\\careers_markdown_chunks.txt\n",
      "✅ 1 chunks (markdown) saved for case-studies.txt → ../data/chunks\\case-studies_markdown_chunks.txt\n",
      "✅ 2 chunks (markdown) saved for commercial-payer.txt → ../data/chunks\\commercial-payer_markdown_chunks.txt\n",
      "✅ 4 chunks (markdown) saved for community-engagement-verification-made-simple.txt → ../data/chunks\\community-engagement-verification-made-simple_markdown_chunks.txt\n",
      "✅ 1 chunks (markdown) saved for contact-us.txt → ../data/chunks\\contact-us_markdown_chunks.txt\n",
      "✅ 3 chunks (markdown) saved for cookies-policy.txt → ../data/chunks\\cookies-policy_markdown_chunks.txt\n",
      "✅ 2 chunks (markdown) saved for coordination-of-benefits.txt → ../data/chunks\\coordination-of-benefits_markdown_chunks.txt\n",
      "✅ 4 chunks (markdown) saved for data-analytics.txt → ../data/chunks\\data-analytics_markdown_chunks.txt\n",
      "✅ 1 chunks (markdown) saved for driving-record-recoveries-accelerating-compliance.txt → ../data/chunks\\driving-record-recoveries-accelerating-compliance_markdown_chunks.txt\n",
      "✅ 6 chunks (markdown) saved for events.txt → ../data/chunks\\events_markdown_chunks.txt\n",
      "✅ 4 chunks (markdown) saved for gainwell-cares.txt → ../data/chunks\\gainwell-cares_markdown_chunks.txt\n",
      "✅ 2 chunks (markdown) saved for human-services-and-public-health.txt → ../data/chunks\\human-services-and-public-health_markdown_chunks.txt\n",
      "✅ 3 chunks (markdown) saved for human-services-public-health-solutions.txt → ../data/chunks\\human-services-public-health-solutions_markdown_chunks.txt\n",
      "✅ 9 chunks (markdown) saved for improving-health-outcomes-and-program-effectiveness-for-justice-involved-populations.txt → ../data/chunks\\improving-health-outcomes-and-program-effectiveness-for-justice-involved-populations_markdown_chunks.txt\n",
      "✅ 3 chunks (markdown) saved for index.txt → ../data/chunks\\index_markdown_chunks.txt\n",
      "✅ 5 chunks (markdown) saved for india-careers.txt → ../data/chunks\\india-careers_markdown_chunks.txt\n",
      "✅ 1 chunks (markdown) saved for insights.txt → ../data/chunks\\insights_markdown_chunks.txt\n",
      "✅ 1 chunks (markdown) saved for legal-notices.txt → ../data/chunks\\legal-notices_markdown_chunks.txt\n",
      "✅ 2 chunks (markdown) saved for medicaid-agencies.txt → ../data/chunks\\medicaid-agencies_markdown_chunks.txt\n",
      "✅ 2 chunks (markdown) saved for medicaid-enterprise.txt → ../data/chunks\\medicaid-enterprise_markdown_chunks.txt\n",
      "✅ 5 chunks (markdown) saved for mes-vendor-strategy-three-essentials-when-consolidating-it-and-business-operations.txt → ../data/chunks\\mes-vendor-strategy-three-essentials-when-consolidating-it-and-business-operations_markdown_chunks.txt\n",
      "✅ 1 chunks (markdown) saved for news.txt → ../data/chunks\\news_markdown_chunks.txt\n",
      "✅ 4 chunks (markdown) saved for our-culture.txt → ../data/chunks\\our-culture_markdown_chunks.txt\n",
      "✅ 3 chunks (markdown) saved for payment-integrity.txt → ../data/chunks\\payment-integrity_markdown_chunks.txt\n",
      "✅ 3 chunks (markdown) saved for pharmacy-solutions.txt → ../data/chunks\\pharmacy-solutions_markdown_chunks.txt\n",
      "✅ 3 chunks (markdown) saved for population-health.txt → ../data/chunks\\population-health_markdown_chunks.txt\n",
      "✅ 37 chunks (markdown) saved for privacy-policy.txt → ../data/chunks\\privacy-policy_markdown_chunks.txt\n",
      "✅ 3 chunks (markdown) saved for provider-solutions.txt → ../data/chunks\\provider-solutions_markdown_chunks.txt\n",
      "✅ 2 chunks (markdown) saved for providers.txt → ../data/chunks\\providers_markdown_chunks.txt\n",
      "✅ 3 chunks (markdown) saved for solutions.txt → ../data/chunks\\solutions_markdown_chunks.txt\n",
      "✅ 2 chunks (markdown) saved for state-leaders.txt → ../data/chunks\\state-leaders_markdown_chunks.txt\n",
      "✅ 3 chunks (markdown) saved for systems-integration-interoperability.txt → ../data/chunks\\systems-integration-interoperability_markdown_chunks.txt\n",
      "✅ 3 chunks (markdown) saved for systems-integration.txt → ../data/chunks\\systems-integration_markdown_chunks.txt\n",
      "✅ 12 chunks (markdown) saved for terms-of-use.txt → ../data/chunks\\terms-of-use_markdown_chunks.txt\n",
      "✅ 5 chunks (markdown) saved for transforming-provider-experiences-navigating-the-journey-with-confidence.txt → ../data/chunks\\transforming-provider-experiences-navigating-the-journey-with-confidence_markdown_chunks.txt\n",
      "✅ 3 chunks (markdown) saved for who-we-are.txt → ../data/chunks\\who-we-are_markdown_chunks.txt\n",
      "✅ 2 chunks (markdown) saved for who-we-serve.txt → ../data/chunks\\who-we-serve_markdown_chunks.txt\n",
      "\n",
      "All files chunked successfully!\n"
     ]
    }
   ],
   "source": [
    "from chunking import MarkdownChunker\n",
    "chunker = MarkdownChunker()\n",
    "\n",
    "# Options:\n",
    "# chunker.process_all_files(mode=\"semantic\")\n",
    "# chunker.process_all_files(mode=\"recursive\")\n",
    "chunker.process_all_files(mode=\"markdown\")"
   ]
  },
  {
   "cell_type": "code",
   "execution_count": null,
   "id": "21b2254c",
   "metadata": {},
   "outputs": [
    {
     "name": "stdout",
     "output_type": "stream",
     "text": [
      "succes\n"
     ]
    }
   ],
   "source": [
    "from pymilvus import connections\n",
    "\n",
    "connections.connect(\n",
    "    alias=\"default\",\n",
    "    host=\"localhost\",  \n",
    "    port=\"19530\"\n",
    ")\n",
    "print(\"succes\")\n",
    "\n"
   ]
  },
  {
   "cell_type": "code",
   "execution_count": 37,
   "id": "7b29a200",
   "metadata": {},
   "outputs": [
    {
     "name": "stdout",
     "output_type": "stream",
     "text": [
      "Available collections: ['documents_chunks']\n"
     ]
    }
   ],
   "source": [
    "from pymilvus import connections, utility\n",
    "print(\"Available collections:\", utility.list_collections())"
   ]
  },
  {
   "cell_type": "code",
   "execution_count": 34,
   "id": "4a6c72a2",
   "metadata": {},
   "outputs": [
    {
     "name": "stdout",
     "output_type": "stream",
     "text": [
      "⚠️ Collection 'documents_chunks' not found.\n"
     ]
    }
   ],
   "source": [
    "collection_name = \"documents_chunks\"   # Replace with your collection name\n",
    "if utility.has_collection(collection_name):\n",
    "    utility.drop_collection(collection_name)\n",
    "    print(f\"✅ Dropped collection: {collection_name}\")\n",
    "else:\n",
    "    print(f\"⚠️ Collection '{collection_name}' not found.\")"
   ]
  },
  {
   "cell_type": "code",
   "execution_count": 36,
   "id": "27d1c08b",
   "metadata": {},
   "outputs": [
    {
     "name": "stdout",
     "output_type": "stream",
     "text": [
      "Connected to Milvus at localhost:19530\n",
      "Created Milvus collection: documents_chunks\n",
      "\n",
      "Processing file: 2408.09869v5_markdown_chunks.txt (53 chunks)\n"
     ]
    },
    {
     "name": "stderr",
     "output_type": "stream",
     "text": [
      "Batches: 100%|██████████| 2/2 [00:01<00:00,  1.61it/s]\n"
     ]
    },
    {
     "name": "stdout",
     "output_type": "stream",
     "text": [
      "Inserted 53 records into Milvus collection 'documents_chunks'\n",
      "\n",
      "Processing file: accelerating-provider-enrollment-in-vermont_markdown_chunks.txt (1 chunks)\n"
     ]
    },
    {
     "name": "stderr",
     "output_type": "stream",
     "text": [
      "Batches: 100%|██████████| 1/1 [00:00<00:00, 137.78it/s]"
     ]
    },
    {
     "name": "stdout",
     "output_type": "stream",
     "text": [
      "Inserted 1 records into Milvus collection 'documents_chunks'\n",
      "\n",
      "Processing file: accessibility-statement_markdown_chunks.txt (1 chunks)\n"
     ]
    },
    {
     "name": "stderr",
     "output_type": "stream",
     "text": [
      "\n",
      "Batches: 100%|██████████| 1/1 [00:00<00:00, 90.89it/s]"
     ]
    },
    {
     "name": "stdout",
     "output_type": "stream",
     "text": [
      "Inserted 1 records into Milvus collection 'documents_chunks'\n",
      "\n",
      "Processing file: awards_markdown_chunks.txt (4 chunks)\n"
     ]
    },
    {
     "name": "stderr",
     "output_type": "stream",
     "text": [
      "\n",
      "Batches: 100%|██████████| 1/1 [00:00<00:00, 13.89it/s]\n"
     ]
    },
    {
     "name": "stdout",
     "output_type": "stream",
     "text": [
      "Inserted 4 records into Milvus collection 'documents_chunks'\n",
      "\n",
      "Processing file: building-a-data-driven-care-ecosystem-five-lessons-for-medicaid-leaders_markdown_chunks.txt (8 chunks)\n"
     ]
    },
    {
     "name": "stderr",
     "output_type": "stream",
     "text": [
      "Batches: 100%|██████████| 1/1 [00:00<00:00,  7.54it/s]\n"
     ]
    },
    {
     "name": "stdout",
     "output_type": "stream",
     "text": [
      "Inserted 8 records into Milvus collection 'documents_chunks'\n",
      "\n",
      "Processing file: care-quality_markdown_chunks.txt (2 chunks)\n"
     ]
    },
    {
     "name": "stderr",
     "output_type": "stream",
     "text": [
      "Batches: 100%|██████████| 1/1 [00:00<00:00, 25.89it/s]\n"
     ]
    },
    {
     "name": "stdout",
     "output_type": "stream",
     "text": [
      "Inserted 2 records into Milvus collection 'documents_chunks'\n",
      "\n",
      "Processing file: careers_markdown_chunks.txt (6 chunks)\n"
     ]
    },
    {
     "name": "stderr",
     "output_type": "stream",
     "text": [
      "Batches: 100%|██████████| 1/1 [00:00<00:00,  7.13it/s]"
     ]
    },
    {
     "name": "stdout",
     "output_type": "stream",
     "text": [
      "Inserted 6 records into Milvus collection 'documents_chunks'"
     ]
    },
    {
     "name": "stderr",
     "output_type": "stream",
     "text": [
      "\n"
     ]
    },
    {
     "name": "stdout",
     "output_type": "stream",
     "text": [
      "\n",
      "\n",
      "Processing file: case-studies_markdown_chunks.txt (1 chunks)\n"
     ]
    },
    {
     "name": "stderr",
     "output_type": "stream",
     "text": [
      "Batches: 100%|██████████| 1/1 [00:00<00:00, 95.23it/s]\n"
     ]
    },
    {
     "name": "stdout",
     "output_type": "stream",
     "text": [
      "Inserted 1 records into Milvus collection 'documents_chunks'\n",
      "\n",
      "Processing file: commercial-payer_markdown_chunks.txt (2 chunks)\n"
     ]
    },
    {
     "name": "stderr",
     "output_type": "stream",
     "text": [
      "Batches: 100%|██████████| 1/1 [00:00<00:00, 24.40it/s]"
     ]
    },
    {
     "name": "stdout",
     "output_type": "stream",
     "text": [
      "Inserted 2 records into Milvus collection 'documents_chunks'\n",
      "\n",
      "Processing file: community-engagement-verification-made-simple_markdown_chunks.txt (4 chunks)\n"
     ]
    },
    {
     "name": "stderr",
     "output_type": "stream",
     "text": [
      "\n",
      "Batches: 100%|██████████| 1/1 [00:00<00:00, 11.20it/s]\n"
     ]
    },
    {
     "name": "stdout",
     "output_type": "stream",
     "text": [
      "Inserted 4 records into Milvus collection 'documents_chunks'\n",
      "\n",
      "Processing file: contact-us_markdown_chunks.txt (1 chunks)\n"
     ]
    },
    {
     "name": "stderr",
     "output_type": "stream",
     "text": [
      "Batches: 100%|██████████| 1/1 [00:00<00:00, 42.35it/s]\n"
     ]
    },
    {
     "name": "stdout",
     "output_type": "stream",
     "text": [
      "Inserted 1 records into Milvus collection 'documents_chunks'\n",
      "\n",
      "Processing file: cookies-policy_markdown_chunks.txt (3 chunks)\n"
     ]
    },
    {
     "name": "stderr",
     "output_type": "stream",
     "text": [
      "Batches: 100%|██████████| 1/1 [00:00<00:00, 15.05it/s]\n"
     ]
    },
    {
     "name": "stdout",
     "output_type": "stream",
     "text": [
      "Inserted 3 records into Milvus collection 'documents_chunks'\n",
      "\n",
      "Processing file: coordination-of-benefits_markdown_chunks.txt (2 chunks)\n"
     ]
    },
    {
     "name": "stderr",
     "output_type": "stream",
     "text": [
      "Batches: 100%|██████████| 1/1 [00:00<00:00, 11.50it/s]\n"
     ]
    },
    {
     "name": "stdout",
     "output_type": "stream",
     "text": [
      "Inserted 2 records into Milvus collection 'documents_chunks'\n",
      "\n",
      "Processing file: data-analytics_markdown_chunks.txt (4 chunks)\n"
     ]
    },
    {
     "name": "stderr",
     "output_type": "stream",
     "text": [
      "Batches: 100%|██████████| 1/1 [00:00<00:00, 12.27it/s]\n"
     ]
    },
    {
     "name": "stdout",
     "output_type": "stream",
     "text": [
      "Inserted 4 records into Milvus collection 'documents_chunks'\n",
      "\n",
      "Processing file: driving-record-recoveries-accelerating-compliance_markdown_chunks.txt (1 chunks)\n"
     ]
    },
    {
     "name": "stderr",
     "output_type": "stream",
     "text": [
      "Batches: 100%|██████████| 1/1 [00:00<00:00, 101.71it/s]\n"
     ]
    },
    {
     "name": "stdout",
     "output_type": "stream",
     "text": [
      "Inserted 1 records into Milvus collection 'documents_chunks'\n",
      "\n",
      "Processing file: events_markdown_chunks.txt (6 chunks)\n"
     ]
    },
    {
     "name": "stderr",
     "output_type": "stream",
     "text": [
      "Batches: 100%|██████████| 1/1 [00:00<00:00,  8.76it/s]"
     ]
    },
    {
     "name": "stdout",
     "output_type": "stream",
     "text": [
      "Inserted 6 records into Milvus collection 'documents_chunks'"
     ]
    },
    {
     "name": "stderr",
     "output_type": "stream",
     "text": [
      "\n"
     ]
    },
    {
     "name": "stdout",
     "output_type": "stream",
     "text": [
      "\n",
      "\n",
      "Processing file: gainwell-cares_markdown_chunks.txt (4 chunks)\n"
     ]
    },
    {
     "name": "stderr",
     "output_type": "stream",
     "text": [
      "Batches: 100%|██████████| 1/1 [00:00<00:00, 13.34it/s]\n"
     ]
    },
    {
     "name": "stdout",
     "output_type": "stream",
     "text": [
      "Inserted 4 records into Milvus collection 'documents_chunks'\n",
      "\n",
      "Processing file: human-services-and-public-health_markdown_chunks.txt (2 chunks)\n"
     ]
    },
    {
     "name": "stderr",
     "output_type": "stream",
     "text": [
      "Batches: 100%|██████████| 1/1 [00:00<00:00, 29.52it/s]\n"
     ]
    },
    {
     "name": "stdout",
     "output_type": "stream",
     "text": [
      "Inserted 2 records into Milvus collection 'documents_chunks'\n",
      "\n",
      "Processing file: human-services-public-health-solutions_markdown_chunks.txt (3 chunks)\n"
     ]
    },
    {
     "name": "stderr",
     "output_type": "stream",
     "text": [
      "Batches: 100%|██████████| 1/1 [00:00<00:00, 16.65it/s]\n"
     ]
    },
    {
     "name": "stdout",
     "output_type": "stream",
     "text": [
      "Inserted 3 records into Milvus collection 'documents_chunks'\n",
      "\n",
      "Processing file: improving-health-outcomes-and-program-effectiveness-for-justice-involved-populations_markdown_chunks.txt (9 chunks)\n"
     ]
    },
    {
     "name": "stderr",
     "output_type": "stream",
     "text": [
      "Batches: 100%|██████████| 1/1 [00:00<00:00,  6.54it/s]\n"
     ]
    },
    {
     "name": "stdout",
     "output_type": "stream",
     "text": [
      "Inserted 9 records into Milvus collection 'documents_chunks'\n",
      "\n",
      "Processing file: index_markdown_chunks.txt (3 chunks)\n"
     ]
    },
    {
     "name": "stderr",
     "output_type": "stream",
     "text": [
      "Batches: 100%|██████████| 1/1 [00:00<00:00, 18.57it/s]\n"
     ]
    },
    {
     "name": "stdout",
     "output_type": "stream",
     "text": [
      "Inserted 3 records into Milvus collection 'documents_chunks'\n",
      "\n",
      "Processing file: india-careers_markdown_chunks.txt (5 chunks)\n"
     ]
    },
    {
     "name": "stderr",
     "output_type": "stream",
     "text": [
      "Batches: 100%|██████████| 1/1 [00:00<00:00, 10.86it/s]"
     ]
    },
    {
     "name": "stdout",
     "output_type": "stream",
     "text": [
      "Inserted 5 records into Milvus collection 'documents_chunks'"
     ]
    },
    {
     "name": "stderr",
     "output_type": "stream",
     "text": [
      "\n"
     ]
    },
    {
     "name": "stdout",
     "output_type": "stream",
     "text": [
      "\n",
      "\n",
      "Processing file: insights_markdown_chunks.txt (1 chunks)\n"
     ]
    },
    {
     "name": "stderr",
     "output_type": "stream",
     "text": [
      "Batches: 100%|██████████| 1/1 [00:00<00:00, 111.13it/s]\n"
     ]
    },
    {
     "name": "stdout",
     "output_type": "stream",
     "text": [
      "Inserted 1 records into Milvus collection 'documents_chunks'\n",
      "\n",
      "Processing file: legal-notices_markdown_chunks.txt (1 chunks)\n"
     ]
    },
    {
     "name": "stderr",
     "output_type": "stream",
     "text": [
      "Batches: 100%|██████████| 1/1 [00:00<00:00, 67.36it/s]\n"
     ]
    },
    {
     "name": "stdout",
     "output_type": "stream",
     "text": [
      "Inserted 1 records into Milvus collection 'documents_chunks'\n",
      "\n",
      "Processing file: medicaid-agencies_markdown_chunks.txt (2 chunks)\n"
     ]
    },
    {
     "name": "stderr",
     "output_type": "stream",
     "text": [
      "Batches: 100%|██████████| 1/1 [00:00<00:00, 26.53it/s]\n"
     ]
    },
    {
     "name": "stdout",
     "output_type": "stream",
     "text": [
      "Inserted 2 records into Milvus collection 'documents_chunks'\n",
      "\n",
      "Processing file: medicaid-enterprise_markdown_chunks.txt (2 chunks)\n"
     ]
    },
    {
     "name": "stderr",
     "output_type": "stream",
     "text": [
      "Batches: 100%|██████████| 1/1 [00:00<00:00, 27.41it/s]"
     ]
    },
    {
     "name": "stdout",
     "output_type": "stream",
     "text": [
      "Inserted 2 records into Milvus collection 'documents_chunks'\n",
      "\n",
      "Processing file: mes-vendor-strategy-three-essentials-when-consolidating-it-and-business-operations_markdown_chunks.txt (5 chunks)\n"
     ]
    },
    {
     "name": "stderr",
     "output_type": "stream",
     "text": [
      "\n",
      "Batches: 100%|██████████| 1/1 [00:00<00:00, 11.59it/s]"
     ]
    },
    {
     "name": "stdout",
     "output_type": "stream",
     "text": [
      "Inserted 5 records into Milvus collection 'documents_chunks'\n",
      "\n",
      "Processing file: news_markdown_chunks.txt (1 chunks)\n"
     ]
    },
    {
     "name": "stderr",
     "output_type": "stream",
     "text": [
      "\n",
      "Batches: 100%|██████████| 1/1 [00:00<00:00, 105.56it/s]\n"
     ]
    },
    {
     "name": "stdout",
     "output_type": "stream",
     "text": [
      "Inserted 1 records into Milvus collection 'documents_chunks'\n",
      "\n",
      "Processing file: our-culture_markdown_chunks.txt (4 chunks)\n"
     ]
    },
    {
     "name": "stderr",
     "output_type": "stream",
     "text": [
      "Batches: 100%|██████████| 1/1 [00:00<00:00, 13.51it/s]\n"
     ]
    },
    {
     "name": "stdout",
     "output_type": "stream",
     "text": [
      "Inserted 4 records into Milvus collection 'documents_chunks'\n",
      "\n",
      "Processing file: payment-integrity_markdown_chunks.txt (3 chunks)\n"
     ]
    },
    {
     "name": "stderr",
     "output_type": "stream",
     "text": [
      "Batches: 100%|██████████| 1/1 [00:00<00:00, 17.07it/s]"
     ]
    },
    {
     "name": "stdout",
     "output_type": "stream",
     "text": [
      "Inserted 3 records into Milvus collection 'documents_chunks'\n",
      "\n",
      "Processing file: pharmacy-solutions_markdown_chunks.txt (3 chunks)\n"
     ]
    },
    {
     "name": "stderr",
     "output_type": "stream",
     "text": [
      "\n",
      "Batches: 100%|██████████| 1/1 [00:00<00:00, 16.59it/s]\n"
     ]
    },
    {
     "name": "stdout",
     "output_type": "stream",
     "text": [
      "Inserted 3 records into Milvus collection 'documents_chunks'\n",
      "\n",
      "Processing file: population-health_markdown_chunks.txt (3 chunks)\n"
     ]
    },
    {
     "name": "stderr",
     "output_type": "stream",
     "text": [
      "Batches: 100%|██████████| 1/1 [00:00<00:00, 16.17it/s]"
     ]
    },
    {
     "name": "stdout",
     "output_type": "stream",
     "text": [
      "Inserted 3 records into Milvus collection 'documents_chunks'\n",
      "\n",
      "Processing file: privacy-policy_markdown_chunks.txt (37 chunks)\n"
     ]
    },
    {
     "name": "stderr",
     "output_type": "stream",
     "text": [
      "\n",
      "Batches: 100%|██████████| 2/2 [00:00<00:00,  3.03it/s]\n"
     ]
    },
    {
     "name": "stdout",
     "output_type": "stream",
     "text": [
      "Inserted 37 records into Milvus collection 'documents_chunks'\n",
      "\n",
      "Processing file: provider-solutions_markdown_chunks.txt (3 chunks)\n"
     ]
    },
    {
     "name": "stderr",
     "output_type": "stream",
     "text": [
      "Batches: 100%|██████████| 1/1 [00:00<00:00, 18.12it/s]\n"
     ]
    },
    {
     "name": "stdout",
     "output_type": "stream",
     "text": [
      "Inserted 3 records into Milvus collection 'documents_chunks'\n",
      "\n",
      "Processing file: providers_markdown_chunks.txt (2 chunks)\n"
     ]
    },
    {
     "name": "stderr",
     "output_type": "stream",
     "text": [
      "Batches: 100%|██████████| 1/1 [00:00<00:00, 26.82it/s]\n"
     ]
    },
    {
     "name": "stdout",
     "output_type": "stream",
     "text": [
      "Inserted 2 records into Milvus collection 'documents_chunks'\n",
      "\n",
      "Processing file: read_urls_markdown_chunks.txt (4 chunks)\n"
     ]
    },
    {
     "name": "stderr",
     "output_type": "stream",
     "text": [
      "Batches: 100%|██████████| 1/1 [00:00<00:00,  8.77it/s]\n"
     ]
    },
    {
     "name": "stdout",
     "output_type": "stream",
     "text": [
      "Inserted 4 records into Milvus collection 'documents_chunks'\n",
      "\n",
      "Processing file: solutions_markdown_chunks.txt (3 chunks)\n"
     ]
    },
    {
     "name": "stderr",
     "output_type": "stream",
     "text": [
      "Batches: 100%|██████████| 1/1 [00:00<00:00, 19.07it/s]\n"
     ]
    },
    {
     "name": "stdout",
     "output_type": "stream",
     "text": [
      "Inserted 3 records into Milvus collection 'documents_chunks'\n",
      "\n",
      "Processing file: state-leaders_markdown_chunks.txt (2 chunks)\n"
     ]
    },
    {
     "name": "stderr",
     "output_type": "stream",
     "text": [
      "Batches: 100%|██████████| 1/1 [00:00<00:00, 25.44it/s]\n"
     ]
    },
    {
     "name": "stdout",
     "output_type": "stream",
     "text": [
      "Inserted 2 records into Milvus collection 'documents_chunks'\n",
      "\n",
      "Processing file: Syed Saleem_markdown_chunks.txt (10 chunks)\n"
     ]
    },
    {
     "name": "stderr",
     "output_type": "stream",
     "text": [
      "Batches: 100%|██████████| 1/1 [00:00<00:00,  4.20it/s]\n"
     ]
    },
    {
     "name": "stdout",
     "output_type": "stream",
     "text": [
      "Inserted 10 records into Milvus collection 'documents_chunks'\n",
      "\n",
      "Processing file: systems-integration-interoperability_markdown_chunks.txt (3 chunks)\n"
     ]
    },
    {
     "name": "stderr",
     "output_type": "stream",
     "text": [
      "Batches: 100%|██████████| 1/1 [00:00<00:00, 17.09it/s]\n"
     ]
    },
    {
     "name": "stdout",
     "output_type": "stream",
     "text": [
      "Inserted 3 records into Milvus collection 'documents_chunks'\n",
      "\n",
      "Processing file: systems-integration_markdown_chunks.txt (3 chunks)\n"
     ]
    },
    {
     "name": "stderr",
     "output_type": "stream",
     "text": [
      "Batches: 100%|██████████| 1/1 [00:00<00:00, 13.77it/s]"
     ]
    },
    {
     "name": "stdout",
     "output_type": "stream",
     "text": [
      "Inserted 3 records into Milvus collection 'documents_chunks'"
     ]
    },
    {
     "name": "stderr",
     "output_type": "stream",
     "text": [
      "\n"
     ]
    },
    {
     "name": "stdout",
     "output_type": "stream",
     "text": [
      "\n",
      "\n",
      "Processing file: terms-of-use_markdown_chunks.txt (12 chunks)\n"
     ]
    },
    {
     "name": "stderr",
     "output_type": "stream",
     "text": [
      "Batches: 100%|██████████| 1/1 [00:00<00:00,  4.19it/s]\n"
     ]
    },
    {
     "name": "stdout",
     "output_type": "stream",
     "text": [
      "Inserted 12 records into Milvus collection 'documents_chunks'\n",
      "\n",
      "Processing file: transforming-provider-experiences-navigating-the-journey-with-confidence_markdown_chunks.txt (5 chunks)\n"
     ]
    },
    {
     "name": "stderr",
     "output_type": "stream",
     "text": [
      "Batches: 100%|██████████| 1/1 [00:00<00:00, 11.88it/s]\n"
     ]
    },
    {
     "name": "stdout",
     "output_type": "stream",
     "text": [
      "Inserted 5 records into Milvus collection 'documents_chunks'\n",
      "\n",
      "Processing file: who-we-are_markdown_chunks.txt (3 chunks)\n"
     ]
    },
    {
     "name": "stderr",
     "output_type": "stream",
     "text": [
      "Batches: 100%|██████████| 1/1 [00:00<00:00, 18.49it/s]"
     ]
    },
    {
     "name": "stdout",
     "output_type": "stream",
     "text": [
      "Inserted 3 records into Milvus collection 'documents_chunks'\n",
      "\n",
      "Processing file: who-we-serve_markdown_chunks.txt (2 chunks)\n"
     ]
    },
    {
     "name": "stderr",
     "output_type": "stream",
     "text": [
      "\n",
      "Batches: 100%|██████████| 1/1 [00:00<00:00, 27.10it/s]\n"
     ]
    },
    {
     "name": "stdout",
     "output_type": "stream",
     "text": [
      "Inserted 2 records into Milvus collection 'documents_chunks'\n",
      "\n",
      "All embeddings stored in Milvus successfully!\n",
      "\n",
      "Creating index after data insertion...\n",
      "Index created successfully!\n",
      "Collection loaded and ready for search.\n"
     ]
    }
   ],
   "source": [
    "from embedding import EmbeddingGenerator\n",
    "\n",
    "embedder = EmbeddingGenerator()\n",
    "\n",
    "embedder.process_all_files()"
   ]
  },
  {
   "cell_type": "code",
   "execution_count": 44,
   "id": "623543e1",
   "metadata": {},
   "outputs": [
    {
     "name": "stdout",
     "output_type": "stream",
     "text": [
      "🔌 Connecting to Milvus at localhost:19530 ...\n",
      "Connected to Milvus collection: documents_chunks\n",
      "\n",
      "🔹 Top Retrieved Chunks:\n",
      "\n",
      "Result 1: (score=0.5646)\n",
      "22]\n",
      "| CPU                     | Thread budget   | native backend   | native backend   | native backend   | pypdfium backend   | pypdfium backend   | pypdfium backend   |\n",
      "|-------------------------|-----------------|------------------|------------------|------------------|--------------------|--------------------|--------------------|\n",
      "|                         |                 | TTS              | Pages/s          | Mem              | TTS                | Pages/s            | Mem                |\n",
      "| Apple M3 Max (16 cores) | 4 16            | 177 s 167 s      | 1.27 1.34        | 6.20 GB          | 103 s 92 s         | 2.18 2.45          | 2.56 GB            |\n",
      "| Intel(R) Xeon E5-2690   | 4 16            | 375 s 244 s      | 0.60 0.92        | 6.16 GB          | 239 s 143 s        | 0.94 1.57          | 2.42 GB            |\n",
      "\n",
      "Result 2: (score=0.5833)\n",
      "20]\n",
      "In this section, we establish some reference numbers for the processing speed of Docling and the resource budget it requires. All tests in this section are run with default options on our standard test set distributed with Docling, which consists of three papers from arXiv and two IBM Redbooks, with a total of 225 pages. Measurements were taken using both available PDF backends on two different hardware systems: one MacBook Pro M3 Max, and one bare-metal server running Ubuntu 20.04 LTS on an Intel Xeon E5-2690 CPU. For reproducibility, we fixed the thread budget (through setting OMP NUM THREADS environment variable ) once to 4 (Docling default) and once to 16 (equal to full core count on the test hardware). All results are shown in Table 1.\n",
      "\n",
      "Result 3: (score=0.7626)\n",
      "21]\n",
      "If you need to run Docling in very low-resource environments, please consider configuring the pypdfium backend. While it is faster and more memory efficient than the default docling-parse backend, it will come at the expense of worse quality results, especially in table structure recovery.  \n",
      "Establishing GPU acceleration support for the AI models is currently work-in-progress and largely untested, but may work implicitly when CUDA is available and discovered by the onnxruntime and  \n",
      "torch runtimes backing the Docling pipeline. We will deliver updates on this topic at in a future version of this report.  \n",
      "Table 1: Runtime characteristics of Docling with the standard model pipeline and settings, on our test dataset of 225 pages, on two different systems. OCR is disabled. We show the time-to-solution (TTS), computed throughput in pages per second, and the peak memory used (resident set size) for both the Docling-native PDF backend and for the pypdfium backend, using 4 and 16 threads.\n",
      "\n",
      "Result 4: (score=0.79)\n",
      "42]\n",
      ". On the other hand, the more recent Yolov5x model does very well and even out-performs humans on selected labels such as Text , Table and Picture . This is not entirely surprising, as Text , Table and Picture are abundant and the most visually distinctive in a document.\n",
      "\n",
      "Result 5: (score=0.8239)\n",
      "2]\n",
      "Christoph Auer Maksym Lysak Ahmed Nassar Michele Dolfi Nikolaos Livathinos Panos Vagenas Cesar Berrospi Ramis Matteo Omenetti Fabian Lindlbauer Kasper Dinkla Lokesh Mishra Yusik Kim Shubham Gupta Rafael Teixeira de Lima Valery Weber Lucas Morin Ingmar Meijer Viktor Kuropiatnyk Peter W. J. Staar  \n",
      "AI4K Group, IBM Research R¨ uschlikon, Switzerland\n"
     ]
    }
   ],
   "source": [
    "from retriever import MilvusRetriever\n",
    "retriever = MilvusRetriever(\n",
    "        collection_name=\"documents_chunks\",\n",
    "        model_name=\"sentence-transformers/all-MiniLM-L6-v2\",\n",
    "        milvus_host=\"localhost\",\n",
    "        milvus_port=\"19530\"\n",
    "    )\n",
    "\n",
    "query = \"Compare performance between Apple M3 Max and Intel Xeon\"\n",
    "results = retriever.search(query, top_k=5)\n",
    "\n",
    "print(\"\\n🔹 Top Retrieved Chunks:\")\n",
    "for i, (chunk, score) in enumerate(results, 1):\n",
    "    print(f\"\\nResult {i}: (score={score})\\n{chunk}\")"
   ]
  },
  {
   "cell_type": "code",
   "execution_count": null,
   "id": "560083e7",
   "metadata": {},
   "outputs": [],
   "source": []
  }
 ],
 "metadata": {
  "kernelspec": {
   "display_name": "myenv",
   "language": "python",
   "name": "python3"
  },
  "language_info": {
   "codemirror_mode": {
    "name": "ipython",
    "version": 3
   },
   "file_extension": ".py",
   "mimetype": "text/x-python",
   "name": "python",
   "nbconvert_exporter": "python",
   "pygments_lexer": "ipython3",
   "version": "3.10.8"
  }
 },
 "nbformat": 4,
 "nbformat_minor": 5
}
