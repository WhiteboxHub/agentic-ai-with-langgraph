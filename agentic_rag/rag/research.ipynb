{
 "cells": [
  {
   "cell_type": "code",
   "execution_count": null,
   "id": "ff590a47",
   "metadata": {},
   "outputs": [],
   "source": [
    "from docling_parsing import AdvancedPDFHandler\n",
    "\n",
    "pdf_file_path = \"your_file_path\"\n",
    "filehandler=AdvancedPDFHandler(pdf_file_path)\n",
    "\n",
    "filehandler.process_pdf()\n",
    "\n"
   ]
  },
  {
   "cell_type": "code",
   "execution_count": null,
   "id": "710807c0",
   "metadata": {},
   "outputs": [],
   "source": [
    "from utils.data_scraping_url import SimpleWebCrawler\n",
    "\n",
    "crawler=SimpleWebCrawler(\"https://www.gainwelltechnologies.com\")\n",
    "\n",
    "crawler.run()\n",
    "\n"
   ]
  },
  {
   "cell_type": "code",
   "execution_count": null,
   "id": "79a438e7",
   "metadata": {},
   "outputs": [],
   "source": [
    "from utils.chunking import MarkdownChunker\n",
    "chunker = MarkdownChunker()\n",
    "\n",
    "# Options:\n",
    "# chunker.process_all_files(mode=\"semantic\")\n",
    "# chunker.process_all_files(mode=\"recursive\")\n",
    "chunker.process_all_files(mode=\"markdown\")"
   ]
  },
  {
   "cell_type": "code",
   "execution_count": null,
   "id": "21b2254c",
   "metadata": {},
   "outputs": [
    {
     "name": "stdout",
     "output_type": "stream",
     "text": [
      "succes\n"
     ]
    }
   ],
   "source": [
    "from pymilvus import connections\n",
    "\n",
    "connections.connect(\n",
    "    alias=\"default\",\n",
    "    host=\"localhost\",  \n",
    "    port=\"19530\"\n",
    ")\n",
    "print(\"succes\")\n",
    "\n"
   ]
  },
  {
   "cell_type": "code",
   "execution_count": 37,
   "id": "7b29a200",
   "metadata": {},
   "outputs": [
    {
     "name": "stdout",
     "output_type": "stream",
     "text": [
      "Available collections: ['documents_chunks']\n"
     ]
    }
   ],
   "source": [
    "from pymilvus import connections, utility\n",
    "print(\"Available collections:\", utility.list_collections())"
   ]
  },
  {
   "cell_type": "code",
   "execution_count": null,
   "id": "4a6c72a2",
   "metadata": {},
   "outputs": [
    {
     "name": "stdout",
     "output_type": "stream",
     "text": [
      "⚠️ Collection 'documents_chunks' not found.\n"
     ]
    }
   ],
   "source": [
    "collection_name = \"documents_chunks\"   # Replace with your collection name\n",
    "if utility.has_collection(collection_name):\n",
    "    utility.drop_collection(collection_name)\n",
    "    print(f\"Dropped collection: {collection_name}\")\n",
    "else:\n",
    "    print(f\"Collection '{collection_name}' not found.\")"
   ]
  },
  {
   "cell_type": "code",
   "execution_count": null,
   "id": "27d1c08b",
   "metadata": {},
   "outputs": [],
   "source": [
    "from utils.embedding import EmbeddingGenerator\n",
    "\n",
    "embedder = EmbeddingGenerator()\n",
    "\n",
    "embedder.process_all_files()"
   ]
  },
  {
   "cell_type": "code",
   "execution_count": null,
   "id": "623543e1",
   "metadata": {},
   "outputs": [],
   "source": [
    "from utils.retriever import MilvusRetriever\n",
    "retriever = MilvusRetriever(\n",
    "        collection_name=\"documents_chunks\",\n",
    "        model_name=\"sentence-transformers/all-MiniLM-L6-v2\",\n",
    "        milvus_host=\"localhost\",\n",
    "        milvus_port=\"19530\"\n",
    "    )\n",
    "\n",
    "query = \"Compare performance between Apple M3 Max and Intel Xeon\"\n",
    "results = retriever.search(query, top_k=5)\n",
    "\n",
    "print(\"\\n🔹 Top Retrieved Chunks:\")\n",
    "for i, (chunk, score) in enumerate(results, 1):\n",
    "    print(f\"\\nResult {i}: (score={score})\\n{chunk}\")"
   ]
  },
  {
   "cell_type": "code",
   "execution_count": null,
   "id": "560083e7",
   "metadata": {},
   "outputs": [],
   "source": []
  }
 ],
 "metadata": {
  "kernelspec": {
   "display_name": "myenv",
   "language": "python",
   "name": "python3"
  },
  "language_info": {
   "codemirror_mode": {
    "name": "ipython",
    "version": 3
   },
   "file_extension": ".py",
   "mimetype": "text/x-python",
   "name": "python",
   "nbconvert_exporter": "python",
   "pygments_lexer": "ipython3",
   "version": "3.10.8"
  }
 },
 "nbformat": 4,
 "nbformat_minor": 5
}
