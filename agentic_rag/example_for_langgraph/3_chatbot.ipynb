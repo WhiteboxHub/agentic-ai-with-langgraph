{
 "cells": [
  {
   "cell_type": "code",
   "execution_count": 2,
   "id": "c5b939c5",
   "metadata": {},
   "outputs": [
    {
     "name": "stdout",
     "output_type": "stream",
     "text": [
      "Note: you may need to restart the kernel to use updated packages.\n"
     ]
    },
    {
     "name": "stderr",
     "output_type": "stream",
     "text": [
      "\n",
      "[notice] A new release of pip available: 22.2.2 -> 25.2\n",
      "[notice] To update, run: python.exe -m pip install --upgrade pip\n"
     ]
    }
   ],
   "source": [
    "pip install -q langchain \n"
   ]
  },
  {
   "cell_type": "code",
   "execution_count": 3,
   "id": "initial_id",
   "metadata": {
    "ExecuteTime": {
     "end_time": "2025-06-20T21:25:36.850285Z",
     "start_time": "2025-06-20T21:25:36.838246Z"
    },
    "collapsed": true
   },
   "outputs": [],
   "source": [
    "from typing import Annotated\n",
    "from dotenv import load_dotenv\n",
    "load_dotenv()\n",
    "\n",
    "from typing_extensions import TypedDict\n",
    "from langchain.chat_models import init_chat_model\n",
    "from langgraph.graph import StateGraph, START, END\n",
    "from langgraph.graph.message import add_messages"
   ]
  },
  {
   "cell_type": "code",
   "execution_count": 4,
   "id": "3c96164fc8cf8136",
   "metadata": {
    "ExecuteTime": {
     "end_time": "2025-06-20T21:25:40.029147Z",
     "start_time": "2025-06-20T21:25:40.024148Z"
    }
   },
   "outputs": [],
   "source": [
    "from langchain.chat_models import init_chat_model"
   ]
  },
  {
   "cell_type": "code",
   "execution_count": 4,
   "id": "1437d026",
   "metadata": {},
   "outputs": [
    {
     "name": "stdout",
     "output_type": "stream",
     "text": [
      "Requirement already satisfied: langchain-groq in c:\\users\\ai_ml pc_4\\desktop\\class_1\\agentic_ai\\myenv\\lib\\site-packages (0.3.7)\n",
      "Requirement already satisfied: langchain-core<1.0.0,>=0.3.72 in c:\\users\\ai_ml pc_4\\desktop\\class_1\\agentic_ai\\myenv\\lib\\site-packages (from langchain-groq) (0.3.72)\n",
      "Requirement already satisfied: groq<1,>=0.30.0 in c:\\users\\ai_ml pc_4\\desktop\\class_1\\agentic_ai\\myenv\\lib\\site-packages (from langchain-groq) (0.30.0)\n",
      "Requirement already satisfied: httpx<1,>=0.23.0 in c:\\users\\ai_ml pc_4\\desktop\\class_1\\agentic_ai\\myenv\\lib\\site-packages (from groq<1,>=0.30.0->langchain-groq) (0.28.1)\n",
      "Requirement already satisfied: distro<2,>=1.7.0 in c:\\users\\ai_ml pc_4\\desktop\\class_1\\agentic_ai\\myenv\\lib\\site-packages (from groq<1,>=0.30.0->langchain-groq) (1.9.0)\n",
      "Requirement already satisfied: pydantic<3,>=1.9.0 in c:\\users\\ai_ml pc_4\\desktop\\class_1\\agentic_ai\\myenv\\lib\\site-packages (from groq<1,>=0.30.0->langchain-groq) (2.11.7)\n",
      "Requirement already satisfied: typing-extensions<5,>=4.10 in c:\\users\\ai_ml pc_4\\desktop\\class_1\\agentic_ai\\myenv\\lib\\site-packages (from groq<1,>=0.30.0->langchain-groq) (4.14.1)\n",
      "Requirement already satisfied: anyio<5,>=3.5.0 in c:\\users\\ai_ml pc_4\\desktop\\class_1\\agentic_ai\\myenv\\lib\\site-packages (from groq<1,>=0.30.0->langchain-groq) (4.9.0)\n",
      "Requirement already satisfied: sniffio in c:\\users\\ai_ml pc_4\\desktop\\class_1\\agentic_ai\\myenv\\lib\\site-packages (from groq<1,>=0.30.0->langchain-groq) (1.3.1)\n",
      "Requirement already satisfied: jsonpatch<2.0,>=1.33 in c:\\users\\ai_ml pc_4\\desktop\\class_1\\agentic_ai\\myenv\\lib\\site-packages (from langchain-core<1.0.0,>=0.3.72->langchain-groq) (1.33)\n",
      "Requirement already satisfied: PyYAML>=5.3 in c:\\users\\ai_ml pc_4\\desktop\\class_1\\agentic_ai\\myenv\\lib\\site-packages (from langchain-core<1.0.0,>=0.3.72->langchain-groq) (6.0.2)\n",
      "Requirement already satisfied: packaging>=23.2 in c:\\users\\ai_ml pc_4\\desktop\\class_1\\agentic_ai\\myenv\\lib\\site-packages (from langchain-core<1.0.0,>=0.3.72->langchain-groq) (25.0)\n",
      "Requirement already satisfied: langsmith>=0.3.45 in c:\\users\\ai_ml pc_4\\desktop\\class_1\\agentic_ai\\myenv\\lib\\site-packages (from langchain-core<1.0.0,>=0.3.72->langchain-groq) (0.4.9)\n",
      "Requirement already satisfied: tenacity!=8.4.0,<10.0.0,>=8.1.0 in c:\\users\\ai_ml pc_4\\desktop\\class_1\\agentic_ai\\myenv\\lib\\site-packages (from langchain-core<1.0.0,>=0.3.72->langchain-groq) (9.1.2)\n",
      "Requirement already satisfied: exceptiongroup>=1.0.2 in c:\\users\\ai_ml pc_4\\desktop\\class_1\\agentic_ai\\myenv\\lib\\site-packages (from anyio<5,>=3.5.0->groq<1,>=0.30.0->langchain-groq) (1.3.0)\n",
      "Requirement already satisfied: idna>=2.8 in c:\\users\\ai_ml pc_4\\desktop\\class_1\\agentic_ai\\myenv\\lib\\site-packages (from anyio<5,>=3.5.0->groq<1,>=0.30.0->langchain-groq) (3.10)\n",
      "Requirement already satisfied: certifi in c:\\users\\ai_ml pc_4\\desktop\\class_1\\agentic_ai\\myenv\\lib\\site-packages (from httpx<1,>=0.23.0->groq<1,>=0.30.0->langchain-groq) (2025.7.14)\n",
      "Requirement already satisfied: httpcore==1.* in c:\\users\\ai_ml pc_4\\desktop\\class_1\\agentic_ai\\myenv\\lib\\site-packages (from httpx<1,>=0.23.0->groq<1,>=0.30.0->langchain-groq) (1.0.9)\n",
      "Requirement already satisfied: h11>=0.16 in c:\\users\\ai_ml pc_4\\desktop\\class_1\\agentic_ai\\myenv\\lib\\site-packages (from httpcore==1.*->httpx<1,>=0.23.0->groq<1,>=0.30.0->langchain-groq) (0.16.0)\n",
      "Requirement already satisfied: jsonpointer>=1.9 in c:\\users\\ai_ml pc_4\\desktop\\class_1\\agentic_ai\\myenv\\lib\\site-packages (from jsonpatch<2.0,>=1.33->langchain-core<1.0.0,>=0.3.72->langchain-groq) (3.0.0)\n",
      "Requirement already satisfied: orjson<4.0.0,>=3.9.14 in c:\\users\\ai_ml pc_4\\desktop\\class_1\\agentic_ai\\myenv\\lib\\site-packages (from langsmith>=0.3.45->langchain-core<1.0.0,>=0.3.72->langchain-groq) (3.11.1)\n",
      "Requirement already satisfied: requests<3,>=2 in c:\\users\\ai_ml pc_4\\desktop\\class_1\\agentic_ai\\myenv\\lib\\site-packages (from langsmith>=0.3.45->langchain-core<1.0.0,>=0.3.72->langchain-groq) (2.32.4)\n",
      "Requirement already satisfied: requests-toolbelt<2.0.0,>=1.0.0 in c:\\users\\ai_ml pc_4\\desktop\\class_1\\agentic_ai\\myenv\\lib\\site-packages (from langsmith>=0.3.45->langchain-core<1.0.0,>=0.3.72->langchain-groq) (1.0.0)\n",
      "Requirement already satisfied: zstandard<0.24.0,>=0.23.0 in c:\\users\\ai_ml pc_4\\desktop\\class_1\\agentic_ai\\myenv\\lib\\site-packages (from langsmith>=0.3.45->langchain-core<1.0.0,>=0.3.72->langchain-groq) (0.23.0)\n",
      "Requirement already satisfied: pydantic-core==2.33.2 in c:\\users\\ai_ml pc_4\\desktop\\class_1\\agentic_ai\\myenv\\lib\\site-packages (from pydantic<3,>=1.9.0->groq<1,>=0.30.0->langchain-groq) (2.33.2)\n",
      "Requirement already satisfied: typing-inspection>=0.4.0 in c:\\users\\ai_ml pc_4\\desktop\\class_1\\agentic_ai\\myenv\\lib\\site-packages (from pydantic<3,>=1.9.0->groq<1,>=0.30.0->langchain-groq) (0.4.1)\n",
      "Requirement already satisfied: annotated-types>=0.6.0 in c:\\users\\ai_ml pc_4\\desktop\\class_1\\agentic_ai\\myenv\\lib\\site-packages (from pydantic<3,>=1.9.0->groq<1,>=0.30.0->langchain-groq) (0.7.0)\n",
      "Requirement already satisfied: urllib3<3,>=1.21.1 in c:\\users\\ai_ml pc_4\\desktop\\class_1\\agentic_ai\\myenv\\lib\\site-packages (from requests<3,>=2->langsmith>=0.3.45->langchain-core<1.0.0,>=0.3.72->langchain-groq) (2.5.0)\n",
      "Requirement already satisfied: charset_normalizer<4,>=2 in c:\\users\\ai_ml pc_4\\desktop\\class_1\\agentic_ai\\myenv\\lib\\site-packages (from requests<3,>=2->langsmith>=0.3.45->langchain-core<1.0.0,>=0.3.72->langchain-groq) (3.4.2)\n",
      "Note: you may need to restart the kernel to use updated packages.\n"
     ]
    },
    {
     "name": "stderr",
     "output_type": "stream",
     "text": [
      "\n",
      "[notice] A new release of pip available: 22.2.2 -> 25.2\n",
      "[notice] To update, run: python.exe -m pip install --upgrade pip\n"
     ]
    }
   ],
   "source": [
    "pip install -U langchain-groq\n"
   ]
  },
  {
   "cell_type": "code",
   "execution_count": 5,
   "id": "efdc5e9a8ab40001",
   "metadata": {
    "ExecuteTime": {
     "end_time": "2025-06-20T21:25:41.406741Z",
     "start_time": "2025-06-20T21:25:41.386238Z"
    }
   },
   "outputs": [],
   "source": [
    "# llm = init_chat_model(\"google_genai:gemini-2.0-flash\")\n",
    "llm = init_chat_model(\"groq:llama3-70b-8192\")\n",
    "# llm.invoke(\"who was the first person to walk on the moon\")\n",
    "\n",
    "class State(TypedDict):\n",
    "    messages: Annotated[list, add_messages]# reduceer function \n",
    "\n",
    "def chatbot(state: State) -> State:\n",
    "    return {\"messages\": [llm.invoke(state[\"messages\"])]}\n",
    "\n",
    "builder = StateGraph(State)\n",
    "builder.add_node(\"chatbot_node\", chatbot)\n",
    "\n",
    "builder.add_edge(START, \"chatbot_node\")\n",
    "builder.add_edge(\"chatbot_node\", END)\n",
    "\n",
    "graph = builder.compile()"
   ]
  },
  {
   "cell_type": "code",
   "execution_count": 6,
   "id": "3d157a437a401e2a",
   "metadata": {
    "ExecuteTime": {
     "end_time": "2025-06-20T22:04:23.936094Z",
     "start_time": "2025-06-20T22:04:23.575200Z"
    }
   },
   "outputs": [
    {
     "data": {
      "text/plain": [
       "[HumanMessage(content='Who walked on the moon for the first time? Print only the name', additional_kwargs={}, response_metadata={}, id='5731a933-42d0-4c90-b1b4-9be9e53417e1'),\n",
       " AIMessage(content='Neil Armstrong', additional_kwargs={}, response_metadata={'token_usage': {'completion_tokens': 3, 'prompt_tokens': 24, 'total_tokens': 27, 'completion_time': 2.3e-07, 'prompt_time': 0.010890506, 'queue_time': 0.279702592, 'total_time': 0.010890736}, 'model_name': 'llama3-70b-8192', 'system_fingerprint': 'fp_bf16903a67', 'service_tier': 'on_demand', 'finish_reason': 'stop', 'logprobs': None}, id='run--78048906-c175-4587-8889-5240b2f3cce2-0', usage_metadata={'input_tokens': 24, 'output_tokens': 3, 'total_tokens': 27})]"
      ]
     },
     "execution_count": 6,
     "metadata": {},
     "output_type": "execute_result"
    }
   ],
   "source": [
    "message = {\"role\": \"user\", \"content\": \"Who walked on the moon for the first time? Print only the name\"}\n",
    "# message = {\"role\": \"user\", \"content\": \"What is the latest price of MSFT stock?\"}\n",
    "response = graph.invoke({\"messages\":[message]})\n",
    " \n",
    "response[\"messages\"]"
   ]
  },
  {
   "cell_type": "code",
   "execution_count": null,
   "id": "d7e0e36652496d92",
   "metadata": {},
   "outputs": [],
   "source": [
    "state = None\n",
    "while True:\n",
    "    in_message = \"who was the presiden to india\"\n",
    "    if in_message.lower() in {\"quit\",\"exit\"}:\n",
    "        break\n",
    "    if state is None:\n",
    "        state: State = {\n",
    "            \"messages\": [{\"role\": \"user\", \"content\": in_message}]\n",
    "        }\n",
    "    else:\n",
    "        state[\"messages\"].append({\"role\": \"user\", \"content\": in_message})\n",
    "\n",
    "    state = graph.invoke(state)\n",
    "    print(\"Bot:\", state[\"messages\"][-1].content)"
   ]
  },
  {
   "cell_type": "code",
   "execution_count": 9,
   "id": "0ee817a0",
   "metadata": {},
   "outputs": [
    {
     "name": "stdout",
     "output_type": "stream",
     "text": [
      "Bot: Hi! It's nice to meet you. Is there something I can help you with or would you like to chat?\n",
      "Bot: The first Prime Minister of India was Jawaharlal Nehru. He served as the Prime Minister of India from August 15, 1947, until May 27, 1964.\n"
     ]
    }
   ],
   "source": [
    "state = None\n",
    "while True:\n",
    "    in_message = input(\"You: \")  # <-- Ask user for input dynamically\n",
    "    if in_message.lower() in {\"quit\", \"exit\"}:\n",
    "        break\n",
    "\n",
    "    if state is None:\n",
    "        state = {\n",
    "            \"messages\": [{\"role\": \"user\", \"content\": in_message}]\n",
    "        }\n",
    "    else:\n",
    "        state[\"messages\"].append({\"role\": \"user\", \"content\": in_message})\n",
    "\n",
    "    # Invoke the LLM (graph)\n",
    "    state = graph.invoke(state)\n",
    "\n",
    "    # Print the last bot message\n",
    "    print(\"Bot:\", state[\"messages\"][-1].content)\n"
   ]
  }
 ],
 "metadata": {
  "kernelspec": {
   "display_name": "myenv",
   "language": "python",
   "name": "python3"
  },
  "language_info": {
   "codemirror_mode": {
    "name": "ipython",
    "version": 3
   },
   "file_extension": ".py",
   "mimetype": "text/x-python",
   "name": "python",
   "nbconvert_exporter": "python",
   "pygments_lexer": "ipython3",
   "version": "3.10.8"
  }
 },
 "nbformat": 4,
 "nbformat_minor": 5
}
